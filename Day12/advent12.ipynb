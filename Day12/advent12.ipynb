{
 "cells": [
  {
   "cell_type": "markdown",
   "metadata": {},
   "source": [
    "# Advent of Code Day 12\n",
    "## Part 1 & 2"
   ]
  },
  {
   "cell_type": "markdown",
   "metadata": {},
   "source": [
    "Initialize variables and import modules"
   ]
  },
  {
   "cell_type": "code",
   "execution_count": 49,
   "metadata": {},
   "outputs": [],
   "source": [
    "#import numpy as np\n",
    "isdebug = False\n",
    "\n",
    "def debug(p1):\n",
    "    global isdebug\n",
    "    if isdebug:\n",
    "        print(p1)"
   ]
  },
  {
   "cell_type": "markdown",
   "metadata": {},
   "source": [
    "Read input file and make paths directional.  i.e. start can only be first and end can only be last.  Also dupicate each path for both directions."
   ]
  },
  {
   "cell_type": "code",
   "execution_count": 50,
   "metadata": {},
   "outputs": [],
   "source": [
    "f = open(\"input12\",\"r\")\n",
    "i = 0\n",
    "input = []\n",
    "for rdline in f:\n",
    "    path = rdline.strip().split(\"-\")\n",
    "    if path[1] == \"start\": input.append(path[::-1])\n",
    "    elif path[0] == \"start\": input.append(path)\n",
    "    elif path[1] == \"end\": input.append(path)\n",
    "    elif path[0] == \"end\": input.append(path[::-1])\n",
    "    else: \n",
    "        input.append(path)\n",
    "        input.append(path[::-1])\n",
    "f.close\n",
    "debug(input)"
   ]
  },
  {
   "cell_type": "markdown",
   "metadata": {},
   "source": [
    "Core of the system.  call recursively add new path for each recursive branch.  this means that there will be incomplete paths.\n",
    "change the first cave in the path to START if a small cave have been visited twice."
   ]
  },
  {
   "cell_type": "code",
   "execution_count": 51,
   "metadata": {},
   "outputs": [],
   "source": [
    "def addpaths(paths, start, revisit):\n",
    "    for path in input:\n",
    "        if path[0] == start[-1]:\n",
    "            paths.append(start.copy())\n",
    "            if not((path[1] == path[1].lower()) & (len(path[1]) == 2) and (path[1] in paths[-1])):\n",
    "                paths[-1].append(path[1])\n",
    "                if path[1] != \"end\" : \n",
    "                    addpaths(paths, paths[-1], revisit)\n",
    "            else:\n",
    "                if (paths[-1][0] == \"start\") & revisit:\n",
    "                    paths[-1][0] = \"START\"\n",
    "                    paths[-1].append(path[1])\n",
    "                    if path[1] != \"end\" : \n",
    "                        addpaths(paths, paths[-1], revisit)                   \n",
    "    return \n"
   ]
  },
  {
   "cell_type": "markdown",
   "metadata": {},
   "source": [
    "bring it all together.  find all paths, complete and incomplete.  afterwards only cound the ones that are complete (end in end)"
   ]
  },
  {
   "cell_type": "code",
   "execution_count": 52,
   "metadata": {},
   "outputs": [],
   "source": [
    "def findpaths(AllowRevisit):\n",
    "    paths = []\n",
    "    addpaths(paths, [\"start\"], AllowRevisit)\n",
    "    nValidPaths = 0\n",
    "    for path in paths:\n",
    "        if path[-1] == 'end': \n",
    "            nValidPaths += 1\n",
    "            debug(path)\n",
    "    return nValidPaths\n",
    "\n"
   ]
  },
  {
   "cell_type": "markdown",
   "metadata": {},
   "source": [
    "Add the output for the problems."
   ]
  },
  {
   "cell_type": "code",
   "execution_count": 53,
   "metadata": {},
   "outputs": [
    {
     "name": "stdout",
     "output_type": "stream",
     "text": [
      "Part 1: The number of paths with no revisit is 4720\n",
      "Part 2: The number of paths with one revisit is 147848\n"
     ]
    }
   ],
   "source": [
    "print(f\"Part 1: The number of paths with no revisit is {findpaths(False)}\")\n",
    "print(f\"Part 2: The number of paths with one revisit is {findpaths(True)}\")"
   ]
  }
 ],
 "metadata": {
  "interpreter": {
   "hash": "916dbcbb3f70747c44a77c7bcd40155683ae19c65e1c03b4aa3499c5328201f1"
  },
  "kernelspec": {
   "display_name": "Python 3.8.10 64-bit",
   "language": "python",
   "name": "python3"
  },
  "language_info": {
   "codemirror_mode": {
    "name": "ipython",
    "version": 3
   },
   "file_extension": ".py",
   "mimetype": "text/x-python",
   "name": "python",
   "nbconvert_exporter": "python",
   "pygments_lexer": "ipython3",
   "version": "3.8.10"
  },
  "orig_nbformat": 4
 },
 "nbformat": 4,
 "nbformat_minor": 2
}
