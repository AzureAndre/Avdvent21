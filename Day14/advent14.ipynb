{
 "cells": [
  {
   "cell_type": "markdown",
   "metadata": {},
   "source": [
    "# Advent of Code Day 14\n",
    "## Part 1 "
   ]
  },
  {
   "cell_type": "markdown",
   "metadata": {},
   "source": [
    "Initialize "
   ]
  },
  {
   "cell_type": "code",
   "execution_count": 33,
   "metadata": {},
   "outputs": [],
   "source": [
    "import numpy as np\n",
    "isdebug = False\n",
    "\n",
    "def debug(p1):\n",
    "    global isdebug\n",
    "    if isdebug:\n",
    "        print(p1)\n",
    "    return \n",
    "    \n",
    "letters = [\"B\",\"C\",\"F\",\"H\",\"K\",\"N\",\"O\",\"P\",\"S\",\"V\"]        "
   ]
  },
  {
   "cell_type": "code",
   "execution_count": 34,
   "metadata": {},
   "outputs": [],
   "source": [
    "def insstep(let, num):\n",
    "    wnum = [0] * len(num)\n",
    "\n",
    "    for i in range(110):\n",
    "        if (num[i]>0):\n",
    "            pat = let[i] \n",
    "            if pat[1] != \"X\":\n",
    "                add = input[pat]\n",
    "                llet = pat[0] + add\n",
    "                rlet = add + pat[1]\n",
    "                wnum[let.index(llet)] += num[i]\n",
    "                wnum[let.index(rlet)] += num[i]\n",
    "            else:\n",
    "                wnum[let.index(pat)] += num[i]\n",
    "    return let, wnum\n",
    "\n",
    "def initanswer(match):\n",
    "    global letters \n",
    "    ansstr = []\n",
    "    ansval = []\n",
    "        \n",
    "    for i in range(10):\n",
    "        for j in range(10):\n",
    "            ansstr.append(letters[i]+letters[j])\n",
    "            ansval.append(0)\n",
    "        ansstr.append(letters[i] + \"X\")\n",
    "        ansval.append(0)\n",
    "    for i in range(len(match)-1):\n",
    "        ansval[ansstr.index(match[i:i+2])] += 1\n",
    "    return (ansstr, ansval)        \n"
   ]
  },
  {
   "cell_type": "markdown",
   "metadata": {},
   "source": [
    "Open the input file and read into memory"
   ]
  },
  {
   "cell_type": "code",
   "execution_count": 35,
   "metadata": {},
   "outputs": [],
   "source": [
    "f = open(\"input14\",\"r\")\n",
    "i = 0\n",
    "input = dict([])\n",
    "template = f.readline().strip()\n",
    "path = f.readline().strip()\n",
    "for rdline in f:\n",
    "    path = rdline.strip().split(\" -> \")\n",
    "    input[path[0]] = path[1]\n",
    "f.close\n",
    "debug(input)\n",
    "debug(template)"
   ]
  },
  {
   "cell_type": "markdown",
   "metadata": {},
   "source": [
    "Output the answer"
   ]
  },
  {
   "cell_type": "code",
   "execution_count": 36,
   "metadata": {},
   "outputs": [],
   "source": [
    "def dopart(runs):\n",
    "    global letters\n",
    "    match = template + \"X\"\n",
    "    (ansstr, ansval) = initanswer(match)\n",
    "    for i in range (runs):\n",
    "        (ansstr, ansval) = insstep(ansstr, ansval)\n",
    "    numbers = [0] * 10\n",
    "    for i in range(110):\n",
    "        numbers[letters.index(ansstr[i][0])] += ansval[i]\n",
    "    ans = max(numbers) - min(numbers)\n",
    "    return ans\n",
    "\n"
   ]
  },
  {
   "cell_type": "code",
   "execution_count": 50,
   "metadata": {},
   "outputs": [
    {
     "name": "stdout",
     "output_type": "stream",
     "text": [
      "Part 1: The difference between the most and least common ellement for 10 runs is: 3697\n",
      "Part 2: The difference between the most and least common ellement for 40 runs is: 4371307836157\n"
     ]
    }
   ],
   "source": [
    "runs = 10\n",
    "print(f\"Part 1: The difference between the most and least common ellement for {runs} runs is: {dopart(runs)}\")\n",
    "runs = 40\n",
    "print(f\"Part 2: The difference between the most and least common ellement for {runs} runs is: {dopart(runs)}\")\n",
    "runs = 25000\n",
    "#print(f\"Part 2: The difference between the most and least common ellement for {runs} runs is: {dopart(runs)}\")\n",
    "\n"
   ]
  }
 ],
 "metadata": {
  "interpreter": {
   "hash": "916dbcbb3f70747c44a77c7bcd40155683ae19c65e1c03b4aa3499c5328201f1"
  },
  "kernelspec": {
   "display_name": "Python 3.8.10 64-bit",
   "language": "python",
   "name": "python3"
  },
  "language_info": {
   "codemirror_mode": {
    "name": "ipython",
    "version": 3
   },
   "file_extension": ".py",
   "mimetype": "text/x-python",
   "name": "python",
   "nbconvert_exporter": "python",
   "pygments_lexer": "ipython3",
   "version": "3.8.10"
  },
  "orig_nbformat": 4
 },
 "nbformat": 4,
 "nbformat_minor": 2
}
