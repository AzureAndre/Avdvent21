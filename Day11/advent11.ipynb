{
 "cells": [
  {
   "cell_type": "markdown",
   "metadata": {},
   "source": [
    "# Advent of Code Day 11\n",
    "## Part 1 & 2"
   ]
  },
  {
   "cell_type": "markdown",
   "metadata": {},
   "source": [
    "Initialize "
   ]
  },
  {
   "cell_type": "code",
   "execution_count": 1,
   "metadata": {},
   "outputs": [],
   "source": [
    "import numpy as np\n",
    "cflash = 0"
   ]
  },
  {
   "cell_type": "markdown",
   "metadata": {},
   "source": [
    "**Define flash procedure**\n",
    ":  The flash procesudre is called when an octopus flash.  The flash will cause an increase in adjacent octopi which may cause them to flash as well.  This can cause a cascade.  The flash procedure recursively call it self when a neighbouring octopus flash."
   ]
  },
  {
   "cell_type": "code",
   "execution_count": 2,
   "metadata": {},
   "outputs": [],
   "source": [
    "def flash(octopi, i , j):\n",
    "    adjs = [[-1,-1], [-1,0], [-1,1],[0,-1], [0,1],[1,-1], [1,0], [1,1]]\n",
    "    global cflash\n",
    "    cflash += 1\n",
    "    octopi[i,j] = -1\n",
    "    for adj in adjs:\n",
    "        m = i + adj[0] \n",
    "        n = j + adj[1]\n",
    "        if (m in range(10)) and (n in range(10)):\n",
    "            if octopi[m,n] >= 0:\n",
    "                octopi[m,n] += 1\n",
    "            if octopi[m,n]  > 9:\n",
    "              flash(octopi,m,n)\n",
    "    return \n"
   ]
  },
  {
   "cell_type": "markdown",
   "metadata": {},
   "source": [
    "**Step procedure**\n",
    ": The step procedure holds the actions for each step.  Which is:\n",
    "- All octopi increase energy level by one\n",
    "- All octopi that has an engergy value of greater than nine flash\n",
    "- All octopi that flashed return to energy state zero"
   ]
  },
  {
   "cell_type": "code",
   "execution_count": 3,
   "metadata": {},
   "outputs": [],
   "source": [
    "def step(octopi):\n",
    "    octopi += 1\n",
    "    for i in range(10):\n",
    "        for j in range(10):\n",
    "            if octopi[i,j] > 9:\n",
    "                flash(octopi,i,j)\n",
    "    for i in range(10):\n",
    "        for j in range(10):\n",
    "            if octopi[i,j] == -1:\n",
    "                octopi[i,j] =  0\n",
    "    return                \n"
   ]
  },
  {
   "cell_type": "markdown",
   "metadata": {},
   "source": [
    "Read input file into matrix.  Input11 is the puzzel file.  Input11t is the test input"
   ]
  },
  {
   "cell_type": "code",
   "execution_count": 4,
   "metadata": {},
   "outputs": [
    {
     "data": {
      "text/plain": [
       "<function TextIOWrapper.close()>"
      ]
     },
     "execution_count": 4,
     "metadata": {},
     "output_type": "execute_result"
    }
   ],
   "source": [
    "f = open(\"input11\",\"r\")\n",
    "octopi = np.array([[0] * 10] * 10)\n",
    "\n",
    "i = 0\n",
    "for rdline in f:\n",
    "    j = 0\n",
    "    for c in rdline.strip():\n",
    "       octopi[i,j] = int(c)\n",
    "       j += 1\n",
    "    i += 1\n",
    "    \n",
    "f.close\n"
   ]
  },
  {
   "cell_type": "markdown",
   "metadata": {},
   "source": [
    "Run for i steps"
   ]
  },
  {
   "cell_type": "code",
   "execution_count": 5,
   "metadata": {},
   "outputs": [],
   "source": [
    "def runsteps(target):\n",
    "    for i in range(target):\n",
    "        step(octopi)\n",
    "    return     "
   ]
  },
  {
   "cell_type": "markdown",
   "metadata": {},
   "source": [
    "Run until energy state is 0"
   ]
  },
  {
   "cell_type": "code",
   "execution_count": 6,
   "metadata": {},
   "outputs": [],
   "source": [
    "def run2e0():\n",
    "    i = 0\n",
    "    t = 1\n",
    "    while t != 0:\n",
    "        step(octopi)\n",
    "        t = sum(sum(octopi))\n",
    "        i += 1\n",
    "    return i\n"
   ]
  },
  {
   "cell_type": "markdown",
   "metadata": {},
   "source": [
    "Output the answer"
   ]
  },
  {
   "cell_type": "code",
   "execution_count": 7,
   "metadata": {},
   "outputs": [
    {
     "name": "stdout",
     "output_type": "stream",
     "text": [
      "Part 1: There are 1713 flashes after 100 steps\n",
      "Part2: The flashes synchronise at step 502 with 8158 flashes\n"
     ]
    }
   ],
   "source": [
    "init = octopi.copy()\n",
    "cflash = 0\n",
    "target = 100\n",
    "runsteps(target)\n",
    "print(f\"Part 1: There are {cflash} flashes after {target} steps\")\n",
    "\n",
    "octopi = init.copy()\n",
    "cflash = 0\n",
    "print(f\"Part 2: The flashes synchronise at step {run2e0()} with {cflash} flashes\")\n"
   ]
  }
 ],
 "metadata": {
  "interpreter": {
   "hash": "916dbcbb3f70747c44a77c7bcd40155683ae19c65e1c03b4aa3499c5328201f1"
  },
  "kernelspec": {
   "display_name": "Python 3.8.10 64-bit",
   "language": "python",
   "name": "python3"
  },
  "language_info": {
   "codemirror_mode": {
    "name": "ipython",
    "version": 3
   },
   "file_extension": ".py",
   "mimetype": "text/x-python",
   "name": "python",
   "nbconvert_exporter": "python",
   "pygments_lexer": "ipython3",
   "version": "3.8.10"
  },
  "orig_nbformat": 4
 },
 "nbformat": 4,
 "nbformat_minor": 2
}
