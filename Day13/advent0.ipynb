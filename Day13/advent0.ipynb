{
 "cells": [
  {
   "cell_type": "markdown",
   "metadata": {},
   "source": [
    "# Advent of Code Day 13\n",
    "## Part 1 & 2"
   ]
  },
  {
   "cell_type": "markdown",
   "metadata": {},
   "source": [
    "Initialize "
   ]
  },
  {
   "cell_type": "code",
   "execution_count": 1,
   "metadata": {},
   "outputs": [],
   "source": [
    "import numpy as np\n",
    "from PIL import Image\n",
    "isdebug = True\n",
    "\n",
    "def debug(p1):\n",
    "    global isdebug\n",
    "    if isdebug:\n",
    "        print(p1)"
   ]
  },
  {
   "cell_type": "markdown",
   "metadata": {},
   "source": [
    "Build the solution\n",
    "\n",
    "First fold on the y axis"
   ]
  },
  {
   "cell_type": "code",
   "execution_count": 2,
   "metadata": {},
   "outputs": [],
   "source": [
    "def foldy(map, val):\n",
    "    global maxx, maxy\n",
    "    step = 1\n",
    "    while (maxy > (val + step)) & (0 <= (val - step)):\n",
    "        for i in range(maxx):\n",
    "            if (map[i,val+step] == 1) | (map[i,val-step] == 1):\n",
    "                map[i,val-step] = 1\n",
    "                map[i,val+step] = 0\n",
    "        step += 1        \n",
    "    return"
   ]
  },
  {
   "cell_type": "markdown",
   "metadata": {},
   "source": [
    "Then fold on the x axis"
   ]
  },
  {
   "cell_type": "code",
   "execution_count": 3,
   "metadata": {},
   "outputs": [],
   "source": [
    "def foldx(map, val):\n",
    "    global maxx, maxy\n",
    "    step = 1\n",
    "    while (maxx > (val + step)) & (0 <= (val - step)):\n",
    "        for i in range(maxy):\n",
    "            if (map[val+step,i] == 1) | (map[val-step,i] == 1):\n",
    "                map[val-step,i] = 1\n",
    "                map[val+step,i] = 0\n",
    "        step += 1        \n",
    "    return"
   ]
  },
  {
   "cell_type": "markdown",
   "metadata": {},
   "source": [
    "Initialize the map for between the parts"
   ]
  },
  {
   "cell_type": "code",
   "execution_count": 4,
   "metadata": {},
   "outputs": [],
   "source": [
    "def initmap():\n",
    "    map = np.array([[0] * maxy] * maxx)\n",
    "    for coord in input:\n",
    "        map[coord[0], coord[1]] = 1\n",
    "    return map "
   ]
  },
  {
   "cell_type": "markdown",
   "metadata": {},
   "source": [
    "Open the input file and read into memory.  Get a list of coordinates in input and a list of fold lines in folds"
   ]
  },
  {
   "cell_type": "code",
   "execution_count": 5,
   "metadata": {},
   "outputs": [],
   "source": [
    "f = open(\"input13\",\"r\")\n",
    "i = 0\n",
    "input = []\n",
    "folds = []\n",
    "p1 = True\n",
    "maxx = 0\n",
    "maxy = 0\n",
    "for rdline in f:\n",
    "    if rdline.strip() == \"\":\n",
    "        p1 = False\n",
    "    elif p1:\n",
    "        path = [int(n) for n in rdline.strip().split(\",\")]\n",
    "        input.append(path)\n",
    "        if path[0] > maxx: maxx = path[0]\n",
    "        if path[1] > maxy: maxy = path[1]\n",
    "    else: \n",
    "        path = rdline.strip().split(\" \")\n",
    "        folds.append(path[-1].split(\"=\"))\n",
    "f.close\n",
    "for fold in folds:\n",
    "    fold[1] = int(fold[1])\n",
    "maxx += 1\n",
    "maxy += 1    \n"
   ]
  },
  {
   "cell_type": "markdown",
   "metadata": {},
   "source": [
    "Do part 1"
   ]
  },
  {
   "cell_type": "code",
   "execution_count": 6,
   "metadata": {},
   "outputs": [],
   "source": [
    "def part1():\n",
    "    map = initmap()\n",
    "    if folds[0][0] == \"x\":\n",
    "        foldx(map,folds[0][1])\n",
    "    else:\n",
    "        foldy(map,folds[0][1])\n",
    "    return sum(sum(map))"
   ]
  },
  {
   "cell_type": "markdown",
   "metadata": {},
   "source": [
    "Do part 2"
   ]
  },
  {
   "cell_type": "code",
   "execution_count": 7,
   "metadata": {},
   "outputs": [],
   "source": [
    "def part2():\n",
    "    map = initmap()\n",
    "    lastx = maxx\n",
    "    lasty = maxy\n",
    "    for fold in folds:\n",
    "        if fold[0] == \"x\":\n",
    "            lastx = fold[1]\n",
    "            foldx(map,lastx)\n",
    "        else:\n",
    "            lasty = fold[1]\n",
    "            foldy(map,lasty)\n",
    "    output = []\n",
    "    for y in range(lasty):\n",
    "        outline = \"\"\n",
    "        for x in range(lastx):\n",
    "            if map[x,y] == 1:\n",
    "                outline += \"@\"\n",
    "            else:\n",
    "                outline += \" \"    \n",
    "        output.append(outline)        \n",
    "    return np.array(output)\n",
    "\n"
   ]
  },
  {
   "cell_type": "markdown",
   "metadata": {},
   "source": [
    "Output the answer"
   ]
  },
  {
   "cell_type": "code",
   "execution_count": 8,
   "metadata": {},
   "outputs": [
    {
     "name": "stdout",
     "output_type": "stream",
     "text": [
      "Part 1: The answer is 775\n",
      "Part 2: the answer is:\n",
      "['@@@  @@@@ @  @ @@@  @  @ @@@  @  @ @@@  '\n",
      " '@  @ @    @  @ @  @ @  @ @  @ @ @  @  @ '\n",
      " '@  @ @@@  @  @ @  @ @  @ @  @ @@   @  @ '\n",
      " '@@@  @    @  @ @@@  @  @ @@@  @ @  @@@  '\n",
      " '@ @  @    @  @ @    @  @ @    @ @  @ @  '\n",
      " '@  @ @@@@  @@  @     @@  @    @  @ @  @ ']\n"
     ]
    }
   ],
   "source": [
    "print(f\"Part 1: The answer is {part1()}\")\n",
    "print(f\"Part 2: the answer is:\")\n",
    "print(part2())"
   ]
  }
 ],
 "metadata": {
  "interpreter": {
   "hash": "916dbcbb3f70747c44a77c7bcd40155683ae19c65e1c03b4aa3499c5328201f1"
  },
  "kernelspec": {
   "display_name": "Python 3.8.10 64-bit",
   "language": "python",
   "name": "python3"
  },
  "language_info": {
   "codemirror_mode": {
    "name": "ipython",
    "version": 3
   },
   "file_extension": ".py",
   "mimetype": "text/x-python",
   "name": "python",
   "nbconvert_exporter": "python",
   "pygments_lexer": "ipython3",
   "version": "3.8.10"
  },
  "orig_nbformat": 4
 },
 "nbformat": 4,
 "nbformat_minor": 2
}
